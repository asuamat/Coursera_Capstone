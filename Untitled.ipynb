{
 "cells": [
  {
   "cell_type": "markdown",
   "metadata": {},
   "source": [
    "# Coursera Applied Data Science Capstone - Alvaro Suarez Mateos\n",
    "\n",
    "* This is the notebook that I will use to complete the Applied Data Science Capstone module and which will live in GitHub."
   ]
  },
  {
   "cell_type": "code",
   "execution_count": 1,
   "metadata": {},
   "outputs": [
    {
     "name": "stdout",
     "output_type": "stream",
     "text": [
      "Hello Capstone Project Course!\n"
     ]
    }
   ],
   "source": [
    "import pandas as pd\n",
    "import numpy as np\n",
    "print('Hello Capstone Project Course!')"
   ]
  },
  {
   "cell_type": "markdown",
   "metadata": {},
   "source": [
    "For this week, you will required to submit the following:\n",
    "\n",
    "* A description of the problem and a discussion of the background. (15 marks)\n",
    "* A description of the data and how it will be used to solve the problem. (15 marks)\n"
   ]
  },
  {
   "cell_type": "markdown",
   "metadata": {},
   "source": [
    "# A description of the problem and a discussion of the background. (15 marks)\n"
   ]
  },
  {
   "cell_type": "markdown",
   "metadata": {},
   "source": [
    "* The highest price we pay for car crashes is in the loss of human lives, however society also bears the brunt of the many costs associated with motor vehicle accidents. According to the National Highway Traffic Safety Administration (NHTSA), U.S. motor vehicle crashes in 2010 cost almost $1 trillion in loss of productivity and loss of life.\n",
    "\n",
    "* Even when those incidents are not serious, there is a cost to society that comes with each incident.\n",
    "\n",
    "* Data scientists can contribute to the debate of how to reduce the severity of car accidents by contributing their opinions based on extensive data analysis of traffic incident datasets. Via exploratory analysis, data ascientists have the potential to uncover hidden patterns in the data that are invisible even to the trained eye. One human life that is lost in a traffic incident is one too many, hence the importance of making sure the data community contributes to the debate.\n",
    "\n",
    "\n",
    "* Machine Learning is,at its most basic, the practice of using algorithms to parse data, learn from it, and then make a determination or prediction about something in the world. Given the existence of multiple datasets that incorporate data about traffic incidents, we can leverage this to apply machine learning and other data analysis techniques to the problem of traffic incidents.\n",
    "\n",
    "* The City of Seattle has a publically available dataset on traffic incidents in the city, which we will use for our analysis. Our end-goal is to be able to understand the factors that increase the likelihood of a traffic incident in Seattle, and whether we can predict the severity of an incident based ona series of attributes pertaining to the incident."
   ]
  },
  {
   "cell_type": "markdown",
   "metadata": {},
   "source": [
    "# A description of the data and how it will be used to solve the problem. (15 marks)\n",
    "\n",
    "* Explain the data, the main variables and why they are useful."
   ]
  },
  {
   "cell_type": "markdown",
   "metadata": {},
   "source": [
    "Our dataset can be accessed via the following link https://s3.us.cloud-object-storage.appdomain.cloud/cf-courses-data/CognitiveClass/DP0701EN/version-2/Data-Collisions.csv, and is made up of 38 columns and 194673 rows.\n",
    "\n",
    "Therefore, we have 38 attributes to play with in our analysis, and 194673 instances of traffic incidents.\n",
    "\n",
    "At a quick glance, attributes such as the following might prove useful throughout our analysis:\n",
    "\n",
    "* **SEVERITYCODE:** A code that corresponds to the severity of the collision:\n",
    "                    - 3—fatality\n",
    "                    - 2b—serious injury\n",
    "                    - 2—injury\n",
    "                    - 1—prop damage\n",
    "                    - 0—unknown\n",
    "                    \n",
    "* **ADDRTYPE:** Collision address type:\n",
    "                    - Alley\n",
    "                    - Block\n",
    "                    - Intersection\n",
    "\n",
    "* **LOCATION:** Description of the general location of the collision (street name and number)\n",
    "\n",
    "* **SEVERITYCODE:** A code that corresponds to the severity of the collision:\n",
    "                    - 3—fatality\n",
    "                    - 2b—serious injury\n",
    "                    - 2—injury\n",
    "                    - 1—prop damage\n",
    "                    - 0—unknown\n",
    "                    \n",
    "* **PERSONCOUNT:** The total number of people involved in the collision\n",
    "\n",
    "* **INCDATE:** The date of the incident.\n",
    "\n",
    "\n",
    "The label for the data set is severity, which describes the fatality of an accident.\n",
    "\n",
    "* From some initial exploratory analysis, we have seen that some of the attributes in our dataset have missing values"
   ]
  }
 ],
 "metadata": {
  "kernelspec": {
   "display_name": "Python 3",
   "language": "python",
   "name": "python3"
  },
  "language_info": {
   "codemirror_mode": {
    "name": "ipython",
    "version": 3
   },
   "file_extension": ".py",
   "mimetype": "text/x-python",
   "name": "python",
   "nbconvert_exporter": "python",
   "pygments_lexer": "ipython3",
   "version": "3.7.6"
  }
 },
 "nbformat": 4,
 "nbformat_minor": 4
}
